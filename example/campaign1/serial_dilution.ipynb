{
 "cells": [
  {
   "cell_type": "markdown",
   "metadata": {},
   "source": [
    "## SERIAL DILUTION\n",
    "\n",
    "### Methods:\n",
    "\n",
    "1. Evenly spaced serial dilution with stock concentration, lowest concentration, number of columns, and final volume as inputs. \n",
    "\n",
    "2. Evenly spaced serial dilution with dilution factor (ex. 1/10), number of columns, and final volume as inputs\n",
    "\n",
    "3. Custom dilution concentrations (not evenly spaced) with stock concentration, list of desired concentrations, and final volume as inputs\n",
    "\n",
    "### Default Deck Locations:\n",
    "1. Tip Box - 200uL **\n",
    "2. Empty (HEAT NEST)\n",
    "3. Stock plate (Corning 3383) -> place stock in Column 1\n",
    "4. Serial Dilution plate (Corning 3383) -> empty to start\n",
    "5. Diluent plate (12 channel reservoir or 96 deep well) -> place diluent in Column 1\n",
    "6. Empty\n",
    "7. Empty **\n",
    "8. Empty \n",
    "\n",
    "** 50uL Tip Box may be placed at Position 1 or Position 7. This will be determined by volume calculations later on in the program. Please set up the deck as indicated by the cell later in this program. \n",
    "\n",
    "NOTE: This program works correctly as long as units are kept consistent. uL/uL or ng/uL serial dilutions will work. \n"
   ]
  },
  {
   "cell_type": "markdown",
   "metadata": {},
   "source": [
    "<font color='blue'>Which serial dilution method are you using? (1, 2, or 3) Enter it below.  </font>"
   ]
  },
  {
   "cell_type": "code",
   "execution_count": 14,
   "metadata": {},
   "outputs": [],
   "source": [
    "method_number = 3"
   ]
  },
  {
   "cell_type": "markdown",
   "metadata": {},
   "source": [
    "***"
   ]
  },
  {
   "cell_type": "markdown",
   "metadata": {},
   "source": [
    "### Variables: \n",
    "<br>\n",
    "<font color='blue'>Enter the following variables. These are required for all methods.</font>"
   ]
  },
  {
   "cell_type": "code",
   "execution_count": 15,
   "metadata": {},
   "outputs": [],
   "source": [
    "output_hso_filename = \"serial_dilution.hso\"  # File name of generated .hso file\n",
    "\n",
    "highest_concentration = 1/1000   # stock solution concentration (Enter as \"None\" or 0 if using method 2)\n",
    "\n",
    "num_columns = 4              # Number of columns to use in dilution\n",
    "desired_final_volume = 100   # Final Voume in wells after dilution is complete.\n",
    "\n",
    "num_mixes = 5\n",
    "do_blowoff = True    # yes = True, no = False \n",
    "stock_volume = 700   # volume of stock solution in one well (uL) - used to calculate mixing volume before transfer\n"
   ]
  },
  {
   "cell_type": "markdown",
   "metadata": {},
   "source": [
    "<font color='blue'>Enter the variables for the method number you have chosen</font>\n",
    "<br><br>\n",
    "<font color='purple'>METHOD 1 VARIABLES:</font>"
   ]
  },
  {
   "cell_type": "code",
   "execution_count": 16,
   "metadata": {},
   "outputs": [],
   "source": [
    " lowest_concentration = 1/16000"
   ]
  },
  {
   "cell_type": "markdown",
   "metadata": {},
   "source": [
    "<font color='purple'>METHOD 2 VARIABLES:</font>"
   ]
  },
  {
   "cell_type": "code",
   "execution_count": 17,
   "metadata": {},
   "outputs": [],
   "source": [
    "dilution_factor = 1/10   # desired dilution factor/ratio (ex. 2-fold dilution = 1/2 = 0.5)"
   ]
  },
  {
   "cell_type": "markdown",
   "metadata": {},
   "source": [
    "<font color='purple'>METHOD 3 VARIABLES:</font>"
   ]
  },
  {
   "cell_type": "code",
   "execution_count": 18,
   "metadata": {},
   "outputs": [],
   "source": [
    "# enter a list of concentrations in uL (ex. [(1/2000), (1/4000), (1/16000)])\n",
    "dilution_concentrations_list = [(1/2000), (1/4000), (1/40000), (1/160000)]  "
   ]
  },
  {
   "cell_type": "markdown",
   "metadata": {},
   "source": [
    "***"
   ]
  },
  {
   "cell_type": "markdown",
   "metadata": {},
   "source": [
    "### Code:\n",
    "<br> \n",
    "<font color='purple'>IMPORT STATEMENTS</font>"
   ]
  },
  {
   "cell_type": "code",
   "execution_count": 19,
   "metadata": {},
   "outputs": [],
   "source": [
    "import os\n",
    "import sys\n",
    "from liquidhandling import SoloSoft\n",
    "from liquidhandling import GenericPlate96Well, NinetySixDeepWell, ZAgilentReservoir_1row"
   ]
  },
  {
   "cell_type": "markdown",
   "metadata": {},
   "source": [
    "<font color='purple'>CALCULATIONS</font>\n",
    "<br><br>\n",
    "<font color='blue'>Calculations will be printed below this cell. Check that they match your expectations</font>"
   ]
  },
  {
   "cell_type": "code",
   "execution_count": 20,
   "metadata": {},
   "outputs": [
    {
     "name": "stdout",
     "output_type": "stream",
     "text": [
      "Method 3: \n",
      " desired concentrations list (uL/uL) = [0.0005, 0.00025, 2.5e-05, 6.25e-06]\n",
      " diluent transfer volumes (uL) = [50, 50, 90, 75]\n",
      " serial transfer volumes (uL) = [50, 50, 10, 25]\n",
      " final volume in each well (uL) = [50, 90, 75, 100]\n"
     ]
    }
   ],
   "source": [
    "# Method 1 or 2\n",
    "if method_number == 1 or method_number == 2:\n",
    "    # calculate dilution factor and transfer volumes\n",
    "    \n",
    "    if method_number == 1:\n",
    "        dilution_factor = (lowest_concentration/highest_concentration) ** (1/num_columns)\n",
    "        \n",
    "    serial_transfer_volume = int(dilution_factor * desired_final_volume)  \n",
    "    diluent_transfer_volume = int(desired_final_volume - serial_transfer_volume)\n",
    "    \n",
    "    # calculate final volume in each well (TODO -> put calculation into a method?)\n",
    "    final_volumes = [diluent_transfer_volume]*num_columns\n",
    "    final_volumes[0] += serial_transfer_volume\n",
    "    for i in range(num_columns-1):\n",
    "        final_volumes[i] -= serial_transfer_volume\n",
    "        final_volumes[i+1] += serial_transfer_volume\n",
    "    \n",
    "    # See calculation output below\n",
    "    if method_number == 1:\n",
    "        print(\"Method 1:\" + \"\\n dilution factor = \" + str(dilution_factor) \n",
    "              + \"\\n diluent transfer volume (uL) = \" + str(diluent_transfer_volume) \n",
    "              + \"\\n serial transfer volume (uL) = \" + str(serial_transfer_volume) \n",
    "              + \"\\n final volume in each well (uL) = \" + str(final_volumes))\n",
    "    elif method_number == 2:\n",
    "        print(\"Method 2: \\n diluent transfer volume (uL) = \" + str(diluent_transfer_volume) \n",
    "              + \"\\n serial transfer volume (uL) = \" + str(serial_transfer_volume)\n",
    "              + \"\\n final volume in each well (uL) = \" + str(final_volumes))\n",
    "          \n",
    "# Method 3 \n",
    "elif method_number == 3:\n",
    "    num_columns = len(dilution_concentrations_list)\n",
    "    serial_transfer_volumes = [0]*num_columns\n",
    "    diluent_transfer_volumes = [0]*num_columns\n",
    "    for i in range(len(dilution_concentrations_list)):\n",
    "        if i == 0: \n",
    "            current_dilution_factor = (dilution_concentrations_list[i]/highest_concentration) \n",
    "        else:\n",
    "            current_dilution_factor = (dilution_concentrations_list[i]/dilution_concentrations_list[i-1])\n",
    "        serial_transfer_volumes[i] = int(current_dilution_factor * desired_final_volume)\n",
    "        diluent_transfer_volumes[i]  = int(desired_final_volume - serial_transfer_volumes[i])\n",
    " \n",
    "    # calculate final volume in each well\n",
    "    final_volumes = diluent_transfer_volumes.copy()\n",
    "    for i in range(num_columns):\n",
    "        final_volumes[i] += serial_transfer_volumes[i]\n",
    "        if i < num_columns-1:\n",
    "            final_volumes[i] -= serial_transfer_volumes[i+1]\n",
    "          \n",
    "    # See calculation output below\n",
    "    print(\"Method 3: \\n desired concentrations list (uL/uL) = \" + str(dilution_concentrations_list) \n",
    "          + \"\\n diluent transfer volumes (uL) = \" + str(diluent_transfer_volumes) \n",
    "          + \"\\n serial transfer volumes (uL) = \" + str(serial_transfer_volumes)\n",
    "          + \"\\n final volume in each well (uL) = \" + str(final_volumes))\n",
    "    "
   ]
  },
  {
   "cell_type": "markdown",
   "metadata": {},
   "source": [
    "<font color='purple'>GENERATE DECK LAYOUT (and determine what tips are necessary)</font>"
   ]
  },
  {
   "cell_type": "code",
   "execution_count": 21,
   "metadata": {},
   "outputs": [
    {
     "name": "stdout",
     "output_type": "stream",
     "text": [
      "Serial tip locations: [[200, 'Position1'], [200, 'Position1'], [50, 'Position7'], [50, 'Position7']]\n",
      "Diluent tip locaitons: [[200, 'Position1'], [200, 'Position1'], [200, 'Position1'], [200, 'Position1']]\n",
      "\n",
      "Location of 50uL tips: Position7\n"
     ]
    }
   ],
   "source": [
    "# Variables\n",
    "plate_list = [\n",
    "        \"TipBox.200uL.Corning-4864.orangebox\",\n",
    "        \"Empty\",\n",
    "        \"Corning 3383\",\n",
    "        \"Corning 3383\",\n",
    "        \"12 Channel Reservoir\",\n",
    "        \"Empty\",\n",
    "        \"Empty\",\n",
    "        \"Empty\",\n",
    "    ]\n",
    "\n",
    "user_readable_plate_list = [\n",
    "        \"TipBox-200uL\",\n",
    "        \"Empty - HEAT NEST\",\n",
    "        \"Stock plate - Corning 3383\",\n",
    "        \"Serial dilution plate - Corning 3383\",\n",
    "        \"Diluent plate - 12 Channel Reservoir\",\n",
    "        \"Empty\",\n",
    "        \"Empty\",\n",
    "        \"Empty\",\n",
    "    ]\n",
    "\n",
    "tips_name_50uL = \"TipBox.50uL.Axygen-EV-50-R-S.tealbox\"\n",
    "tips_location_50uL = None\n",
    "\n",
    "diluent_50uL = False  \n",
    "serial_50uL = False\n",
    "only_50uL = False\n",
    "\n",
    "\n",
    "# Method 1 and 2 -> only 50uL tips if all transfer volumes less than 20uL for now\n",
    "if not method_number == 3:\n",
    "    \n",
    "    if serial_transfer_volume < 20:\n",
    "        serial_50uL = True\n",
    "    if diluent_transfer_volume < 20:\n",
    "        diluent_50uL = True\n",
    "    if serial_50uL == True and diluent_50uL == True:\n",
    "        only_50uL = True\n",
    "            \n",
    "    print(serial_50uL)\n",
    "    print(diluent_50uL)\n",
    "    print(\"Only 50uL tips? -> \" + str(only_50uL))\n",
    "\n",
    "# Method 3\n",
    "elif method_number == 3:\n",
    "    \n",
    "    serial_tip_locations = [[200, \"Position1\"]]*num_columns  # 200uL tips is the default\n",
    "    diluent_tip_locations = [[200, \"Position1\"]]*num_columns\n",
    "    \n",
    "    if max(serial_transfer_volumes) <= 50 and max(diluent_transfer_volumes) <= 50:\n",
    "        # no 200uL tips needed if max of all transfer volumes is 50 uL\n",
    "        serial_tip_locations = [[50, \"Position1\"]]*num_columns  \n",
    "        diluent_tip_locations = [[50, \"Position1\"]]*num_columns\n",
    "        only_50uL = True\n",
    "        \n",
    "    else:\n",
    "        for i in range(len(serial_transfer_volumes)):\n",
    "            if serial_transfer_volumes[i] < 20: \n",
    "                serial_tip_locations[i] = [50, \"Position7\"]\n",
    "                serial_50uL = True\n",
    "            if diluent_transfer_volumes[i] < 20:\n",
    "                diluent_tip_locations[i] = [50, \"Position7\"]\n",
    "                diluent_50uL = True\n",
    "\n",
    "\n",
    "# Determine deck position of 50 uL tips (if needed) -> do this for all methods\n",
    "if only_50uL == True:\n",
    "    plate_list[0] = tips_name_50uL\n",
    "    user_readable_plate_list[0] = \"TipBox-50uL\"\n",
    "    tips_location_50uL = \"Position1\"\n",
    "elif (diluent_50uL == False and serial_50uL == True) or (diluent_50uL == True and serial_50uL == False):\n",
    "    plate_list[6] = tips_name_50uL\n",
    "    user_readable_plate_list[6] = \"TipBox-50uL\"\n",
    "    tips_location_50uL = \"Position7\"\n",
    "\n",
    "# for method 3 only... no need to switch from 50uL to 200uL tips if next trasfer volume <= 50uL\n",
    "    # have to do this after the locaiton of the 50uL tip box has been established\n",
    "if method_number == 3:  \n",
    "    for i in range(1, num_columns):\n",
    "        if serial_tip_locations[i][0] > serial_tip_locations[i-1][0] and serial_transfer_volumes[i] <= 50:\n",
    "            serial_tip_locations[i] = [50, tips_location_50uL]\n",
    "        if diluent_tip_locations[i][0] > diluent_tip_locations[i-1][0] and diluent_transfer_volumes[i] <= 50:\n",
    "            diluent_tip_locations[i] = [50, tips_location_50uL]\n",
    "    \n",
    "    print(\"Serial tip locations: \" + str(serial_tip_locations))\n",
    "    print(\"Diluent tip locaitons: \" + str(diluent_tip_locations))\n",
    "    \n",
    "    \n",
    "print(\"\\nLocation of 50uL tips: \" + str(tips_location_50uL))\n",
    "\n",
    "\n"
   ]
  },
  {
   "cell_type": "markdown",
   "metadata": {},
   "source": [
    "***"
   ]
  },
  {
   "cell_type": "markdown",
   "metadata": {},
   "source": [
    "<font color='blue'>----- **PLEASE SET UP THE DECK ACCORDINGLY** ------</font>"
   ]
  },
  {
   "cell_type": "code",
   "execution_count": 22,
   "metadata": {},
   "outputs": [
    {
     "name": "stdout",
     "output_type": "stream",
     "text": [
      "DECK LAYOUT:\n",
      "1 -> TipBox-200uL\n",
      "2 -> Empty - HEAT NEST\n",
      "3 -> Stock plate - Corning 3383\n",
      "4 -> Serial dilution plate - Corning 3383\n",
      "5 -> Diluent plate - 12 Channel Reservoir\n",
      "6 -> Empty\n",
      "7 -> TipBox-50uL\n",
      "8 -> Empty\n"
     ]
    }
   ],
   "source": [
    "print(\"DECK LAYOUT:\")\n",
    "for i in range(len(user_readable_plate_list)):\n",
    "    print(str(i+1) + \" -> \" + str(user_readable_plate_list[i]))\n",
    "    \n",
    "# TODO: add in some notes to the user about defalt positions and column numbers for each plate (in beginning?)"
   ]
  },
  {
   "cell_type": "markdown",
   "metadata": {},
   "source": [
    "***"
   ]
  },
  {
   "cell_type": "markdown",
   "metadata": {},
   "source": [
    "<font color='purple'>CALCULATE MIXING VOLUMES</font>"
   ]
  },
  {
   "cell_type": "code",
   "execution_count": 23,
   "metadata": {
    "jupyter": {
     "source_hidden": true
    }
   },
   "outputs": [
    {
     "name": "stdout",
     "output_type": "stream",
     "text": [
      "Dilution mixing volumes: [30, 54, 30, 30]\n",
      "Stock mixing volumes: [120, 120, 120, 120]\n"
     ]
    }
   ],
   "source": [
    "# TODO: refactor this to prevent repeated code\n",
    "# TODO: account for volume taken from stock solution well each time \n",
    "\n",
    "stock_mix_volumes = [0]*num_columns   \n",
    "dilution_mix_volumes = [0]*num_columns \n",
    "\n",
    "# Methods 1 and 2\n",
    "if not method_number == 3:\n",
    "    if tips_location_50uL == None:\n",
    "        stock_mix_volumes = [int(.6 * 200)]*num_columns if stock_volume > 200 else [int(.6 * stock_volume)]*num_columns\n",
    "        for i in range(num_columns):\n",
    "            dilution_mix_volumes[i] = int(final_volumes[i]*.6) if (final_volumes[i]*.6) < 200 else int(200*.6)\n",
    "    \n",
    "    elif diluent_50uL == True and serial_50uL == False:\n",
    "        if not method_number == 3: \n",
    "            stock_mix_volumes = [int(.6*50)]*num_columns if stock_volume > 50 else [int(.6*stock_volume)]*num_columns\n",
    "            for i in range(num_columns):\n",
    "                dilution_mix_volumes[i] = int(final_volumes[i]*.6) if (final_volumes[i]*.6) < 200 else int(200*.6)\n",
    "    \n",
    "    elif diluent_50uL == False and serial_50uL == True:\n",
    "        if not method_number == 3: \n",
    "            stock_mix_volumes = [int(.6*200)]*num_columns if stock_volume > 200 else [int(.6*stock_volume)]*num_columns\n",
    "            for i in range(num_columns):\n",
    "                dilution_mix_volumes[i] = int(final_volumes[i]*.6) if (final_volumes[i]*.6) < 50 else int(50*.6)\n",
    "\n",
    "    elif only_50uL == True:\n",
    "        if not method_number == 3:  \n",
    "            stock_mix_volumes = [int(.6*50)]*num_columns if stock_volume > 50 else [int(.6*stock_volume)]*num_columns\n",
    "            for i in range(num_columns):\n",
    "                dilution_mix_volumes[i] = int(final_volumes[i]*.6) if (final_volumes[i]*.6) < 50 else int(50*.6)\n",
    "\n",
    "# Method 3\n",
    "elif method_number == 3:\n",
    "    for i in range(num_columns):\n",
    "        # stock mix volumes\n",
    "        if stock_volume > diluent_tip_locations[i][0]:\n",
    "            stock_mix_volumes[i] = int(diluent_tip_locations[i][0] * .6)\n",
    "        else: \n",
    "            stock_mix_volumes[i] = int(stock_volume * .6)  # TODO: make this calculate the current stock volume!!!\n",
    "        #dilution mix volumes\n",
    "        if final_volumes[i] <= serial_tip_locations[i][0]:\n",
    "            dilution_mix_volumes[i] = int(final_volumes[i]*.6)\n",
    "        else:\n",
    "            dilution_mix_volumes[i] = int(.6*serial_tip_locations[i][0]) \n",
    "            \n",
    "print(\"Dilution mixing volumes: \" + str(dilution_mix_volumes))\n",
    "print(\"Stock mixing volumes: \" + str(stock_mix_volumes))  \n",
    "            \n",
    "        "
   ]
  },
  {
   "cell_type": "markdown",
   "metadata": {},
   "source": [
    "<font color='purple'>CALCULATE BLOWOFF VOLUME(S) IF NECESSARY</font>"
   ]
  },
  {
   "cell_type": "code",
   "execution_count": 24,
   "metadata": {},
   "outputs": [
    {
     "name": "stdout",
     "output_type": "stream",
     "text": [
      "Diluent blowoff volumes: [10, 10, 10, 10]\n",
      "Serial blowoff volumes: [10, 10, 10, 10]\n"
     ]
    }
   ],
   "source": [
    "default_blowoff = 10\n",
    "\n",
    "# for method 1 and 2\n",
    "diluent_blowoff_volume = 0\n",
    "serial_blowoff_volume = 0\n",
    "\n",
    "# for method 3\n",
    "diluent_blowoff_volumes = [0]*num_columns\n",
    "serial_blowoff_volumes = [0]*num_columns\n",
    "\n",
    "if do_blowoff == True:\n",
    "    # Methods 1 and 2\n",
    "    if not method_number == 3:\n",
    "        if only_50uL == True: \n",
    "            diluent_blowoff_volume = min(default_blowoff, 50-diluent_transfer_volume) \n",
    "            serial_blowoff_volume = min(default_blowoff, 50-serial_transfer_volume)\n",
    "        else:\n",
    "            diluent_blowoff_volume = min(default_blowoff, 50-diluent_transfer_volume) if diluent_50uL == True else min(default_blowoff, 200-diluent_transfer_volume)\n",
    "            serial_blowoff_volume = min(default_blowoff, 50-serial_transfer_volume) if serial_50uL == True else min(default_blowoff, 200-serial_transfer_volume)\n",
    "        print(diluent_blowoff_volume)\n",
    "        print(serial_blowoff_volume)\n",
    "    \n",
    "    # Method 3\n",
    "    elif method_number == 3:\n",
    "        for i in range(num_columns):\n",
    "            diluent_blowoff_volumes[i] = min(default_blowoff, diluent_tip_locations[i][0]-diluent_transfer_volumes[i])\n",
    "            serial_blowoff_volumes[i] = min(default_blowoff, serial_tip_locations[i][0]-serial_transfer_volumes[i])\n",
    "                     \n",
    "        print(\"Diluent blowoff volumes: \" + str(diluent_blowoff_volumes))\n",
    "        print(\"Serial blowoff volumes: \" + str(serial_blowoff_volumes))\n",
    "                \n",
    "                \n",
    "    \n"
   ]
  },
  {
   "cell_type": "markdown",
   "metadata": {},
   "source": [
    "<font color='purple'>GENERATE SOLOSOFT .HSO FILE</font>"
   ]
  },
  {
   "cell_type": "code",
   "execution_count": 25,
   "metadata": {},
   "outputs": [],
   "source": [
    "# initialize soloSolft\n",
    "# soloSoft = SoloSoft.SoloSoft(\n",
    "#     filename=output_hso_filename,\n",
    "#     plateList=plate_list,\n",
    "# )\n",
    "\n",
    "soloSoft = SoloSoft(\n",
    "    filename=output_hso_filename,\n",
    "    plateList=plate_list,\n",
    ")\n",
    "\n",
    "# METHODS 1 and 2\n",
    "if method_number == 1 or method_number == 2:\n",
    "    \n",
    "    # determine the correct tip box locations\n",
    "    diluent_tip_location = \"Position1\" if diluent_50uL == False else tips_location_50uL\n",
    "    serial_tip_location = \"Position1\" if serial_50uL == False else tips_location_50uL\n",
    "    \n",
    "    # distribute diluent into all required wells \n",
    "    soloSoft.getTip(diluent_tip_location) \n",
    "    for i in range(1,num_columns+1):  # maybe add blowoff\n",
    "        soloSoft.aspirate(  \n",
    "            position=\"Position5\", \n",
    "            aspirate_volumes=ZAgilentReservoir_1row().setColumn(1, diluent_transfer_volume),\n",
    "            aspirate_shift=[0,0,4], # larger z-shift needed for 12 channel reservoir\n",
    "            pre_aspirate=diluent_blowoff_volume,\n",
    "        )\n",
    "        soloSoft.dispense(\n",
    "            position=\"Position4\",\n",
    "            dispense_volumes=GenericPlate96Well().setColumn(i, diluent_transfer_volume), \n",
    "            dispense_shift=[0,0,2], \n",
    "            blowoff=diluent_blowoff_volume,\n",
    "        )\n",
    "    \n",
    "    # get the correct size tips for the serial dilution steps\n",
    "    if not serial_tip_location == diluent_tip_location:\n",
    "        soloSoft.getTip(serial_tip_location)\n",
    "        \n",
    "    # dilute into first column from stock solution\n",
    "    soloSoft.aspirate(\n",
    "        position=\"Position3\", \n",
    "        aspirate_volumes=GenericPlate96Well().setColumn(1, serial_transfer_volume),  # TODO make sure the user places stock solution in this location\n",
    "        aspirate_shift = [0,0,2], \n",
    "        mix_at_start=True,\n",
    "        mix_cycles=num_mixes,\n",
    "        mix_volume=stock_mix_volumes[0],\n",
    "        dispense_height=2,\n",
    "        pre_aspirate=serial_blowoff_volume,\n",
    "    )\n",
    "    soloSoft.dispense(\n",
    "        position=\"Position4\",\n",
    "        dispense_volumes=GenericPlate96Well().setColumn(1, serial_transfer_volume), \n",
    "        dispense_shift=[0,0,2], \n",
    "        mix_at_finish=True, \n",
    "        mix_cycles=num_mixes, \n",
    "        mix_volume=dilution_mix_volumes[0],\n",
    "        aspirate_height=2,\n",
    "        blowoff=serial_blowoff_volume,\n",
    "    )\n",
    "\n",
    "    # serial dilute into the remaining columns\n",
    "    for i in range(1,num_columns):  \n",
    "        soloSoft.aspirate(\n",
    "            position=\"Position4\", \n",
    "            aspirate_volumes=GenericPlate96Well().setColumn(i, serial_transfer_volume),  # TODO make sure the user places stock solution in this location\n",
    "            aspirate_shift = [0,0,2], \n",
    "            mix_at_start=True,\n",
    "            mix_cycles=num_mixes,\n",
    "            mix_volume=dilution_mix_volumes[i-1],\n",
    "            dispense_height=2,\n",
    "            pre_aspirate=serial_blowoff_volume,\n",
    "        )\n",
    "        soloSoft.dispense(\n",
    "            position=\"Position4\",\n",
    "            dispense_volumes=GenericPlate96Well().setColumn(i+1, serial_transfer_volume), \n",
    "            dispense_shift=[0,0,2], \n",
    "            mix_at_finish=True, \n",
    "            mix_cycles=num_mixes, \n",
    "            mix_volume=dilution_mix_volumes[i],\n",
    "            aspirate_height=2,\n",
    "            blowoff=serial_blowoff_volume,\n",
    "        )\n",
    "\n",
    "    soloSoft.shuckTip()\n",
    "    soloSoft.savePipeline()\n",
    "\n",
    "# METHOD 3\n",
    "elif method_number == 3: \n",
    "    # dispense predetermined differing amounts of diluent to each well\n",
    "    soloSoft.getTip(diluent_tip_locations[0][1])  # the first diluent tip locaiton \n",
    "    for i in range(1,num_columns+1): # +1 means 1,2,...,num_columns\n",
    "        soloSoft.aspirate(\n",
    "            position=\"Position5\", \n",
    "            aspirate_volumes=ZAgilentReservoir_1row().setColumn(1, diluent_transfer_volumes[i-1]),\n",
    "            aspirate_shift=[0,0,4],\n",
    "            pre_aspirate=diluent_blowoff_volumes[i-1],\n",
    "        )\n",
    "        soloSoft.dispense(\n",
    "            position=\"Position4\", \n",
    "            dispense_volumes=GenericPlate96Well().setColumn(i, diluent_transfer_volumes[i-1]), \n",
    "            dispense_shift=[0,0,2],\n",
    "            blowoff=diluent_blowoff_volumes[i-1],\n",
    "        )\n",
    "        if not i > (num_columns-1):   # Change tip sizes if necessary\n",
    "            if not diluent_tip_locations[i-1][0] == diluent_tip_locations[i][0]:\n",
    "                soloSoft.getTip(diluent_tip_locations[i][1])\n",
    "        \n",
    "    # dispense the predetermined correct amount of stock solution into the first column\n",
    "    if not diluent_tip_locations[-1][0] == serial_tip_locations[0][0]:  # switch to correct tip type of necessary\n",
    "        soloSoft.getTip(serial_tip_locations[0][1])\n",
    "\n",
    "    soloSoft.aspirate(\n",
    "        position=\"Position3\", \n",
    "        aspirate_volumes=GenericPlate96Well().setColumn(1, serial_transfer_volumes[0]),  # TODO make sure the user places stock solution in this location\n",
    "        aspirate_shift = [0,0,2], \n",
    "        mix_at_start=True,\n",
    "        mix_cycles=num_mixes,\n",
    "        mix_volume=stock_mix_volumes[0],\n",
    "        dispense_height=2,\n",
    "        pre_aspirate=serial_blowoff_volumes[0],\n",
    "    )\n",
    "    soloSoft.dispense(\n",
    "        position=\"Position4\",\n",
    "        dispense_volumes=GenericPlate96Well().setColumn(1, serial_transfer_volumes[0]), \n",
    "        dispense_shift=[0,0,2], \n",
    "        mix_at_finish=True, \n",
    "        mix_cycles=num_mixes, \n",
    "        mix_volume=dilution_mix_volumes[0],\n",
    "        aspirate_height=2,\n",
    "        blowoff=serial_blowoff_volumes[0],\n",
    "    )\n",
    "\n",
    "    # serial dilute into remaining columns \n",
    "    for i in range(1,num_columns): \n",
    "        # change tips if necessary\n",
    "        if not serial_tip_locations[i][0] == serial_tip_locations[i-1][0]:\n",
    "            soloSoft.getTip(serial_tip_locations[i][1])\n",
    "        soloSoft.aspirate(\n",
    "            position=\"Position4\", \n",
    "            aspirate_volumes=GenericPlate96Well().setColumn(i, serial_transfer_volumes[i]),  # TODO make sure the user places stock solution in this location\n",
    "            aspirate_shift = [0,0,2], \n",
    "            mix_at_start=True,\n",
    "            mix_cycles=num_mixes,\n",
    "            mix_volume=dilution_mix_volumes[i],\n",
    "            dispense_height=2,\n",
    "            pre_aspirate=serial_blowoff_volumes[i],\n",
    "        )\n",
    "        soloSoft.dispense(\n",
    "            position=\"Position4\",\n",
    "            dispense_volumes=GenericPlate96Well().setColumn(i+1, serial_transfer_volumes[i]), \n",
    "            dispense_shift=[0,0,2], \n",
    "            mix_at_finish=True, \n",
    "            mix_cycles=num_mixes, \n",
    "            mix_volume=dilution_mix_volumes[i],\n",
    "            aspirate_height=2,\n",
    "            blowoff=serial_blowoff_volumes[i],\n",
    "        )\n",
    "\n",
    "    soloSoft.shuckTip()\n",
    "    soloSoft.savePipeline()"
   ]
  },
  {
   "cell_type": "code",
   "execution_count": 26,
   "metadata": {},
   "outputs": [],
   "source": [
    "# TODO: Run protocol in softlinx and auto start/remote start the program"
   ]
  },
  {
   "cell_type": "code",
   "execution_count": null,
   "metadata": {},
   "outputs": [],
   "source": []
  },
  {
   "cell_type": "code",
   "execution_count": null,
   "metadata": {},
   "outputs": [],
   "source": []
  }
 ],
 "metadata": {
  "kernelspec": {
   "display_name": "Python 3",
   "language": "python",
   "name": "python3"
  },
  "language_info": {
   "codemirror_mode": {
    "name": "ipython",
    "version": 3
   },
   "file_extension": ".py",
   "mimetype": "text/x-python",
   "name": "python",
   "nbconvert_exporter": "python",
   "pygments_lexer": "ipython3",
   "version": "3.8.6"
  }
 },
 "nbformat": 4,
 "nbformat_minor": 4
}
