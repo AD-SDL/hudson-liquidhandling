{
 "cells": [
  {
   "cell_type": "markdown",
   "metadata": {},
   "source": [
    "## SERIAL DILUTION\n",
    "\n",
    "### Methods:\n",
    "\n",
    "1. Evenly spaced serial dilution with stock concentration, lowest concentration, number of columns, and final volume as inputs. \n",
    "\n",
    "2. Evenly spaced serial dilution with dilution factor (ex. 1/10), number of columns, and final volume as inputs\n",
    "\n",
    "3. Custom dilution concentrations (not evenly spaced) with stock concentration, list of desired concentrations, and final volume as inputs"
   ]
  },
  {
   "cell_type": "markdown",
   "metadata": {},
   "source": [
    "<font color='blue'>Which serial dilution method are you using? (1, 2, or 3) Enter it below.  </font>"
   ]
  },
  {
   "cell_type": "code",
   "execution_count": 241,
   "metadata": {},
   "outputs": [],
   "source": [
    "method_number = 1"
   ]
  },
  {
   "cell_type": "markdown",
   "metadata": {},
   "source": [
    "***"
   ]
  },
  {
   "cell_type": "markdown",
   "metadata": {},
   "source": [
    "### Variables: \n",
    "<br>\n",
    "<font color='blue'>Enter the following variables. These are required for all methods.</font>"
   ]
  },
  {
   "cell_type": "code",
   "execution_count": 242,
   "metadata": {},
   "outputs": [],
   "source": [
    "output_hso_filename = \"serial_dilution_test1.hso\"  # File name of generated .hso file\n",
    "\n",
    "highest_concentration = 1/1000   # stock solution concentration (Enter as \"None\" or 0 if using method 2)\n",
    "\n",
    "num_columns = 4              # Number of columns to use in dilution\n",
    "desired_final_volume = 60   # Final Voume in wells after dilution is complete.\n",
    "\n",
    "num_mixes = 5\n",
    "do_blowoff = True    # yes = True, no = False\n",
    "stock_volume = 700   # volume of stock solution in (uL)\n",
    "\n",
    "dilution_mix_volume = 20  # TODO: remove these when mix volumes are calculated correctly below\n",
    "stock_mix_volume = 50"
   ]
  },
  {
   "cell_type": "markdown",
   "metadata": {},
   "source": [
    "<font color='blue'>Enter the variables for the method number you have chosen</font>\n",
    "<br><br>\n",
    "<font color='purple'>METHOD 1 VARIABLES:</font>"
   ]
  },
  {
   "cell_type": "code",
   "execution_count": 243,
   "metadata": {},
   "outputs": [],
   "source": [
    " lowest_concentration = 1/16000"
   ]
  },
  {
   "cell_type": "markdown",
   "metadata": {},
   "source": [
    "<font color='purple'>METHOD 2 VARIABLES:</font>"
   ]
  },
  {
   "cell_type": "code",
   "execution_count": 244,
   "metadata": {},
   "outputs": [],
   "source": [
    "dilution_factor = 1/10   # desired dilution factor/ratio (ex. 2-fold dilution = 1/2 = 0.5)"
   ]
  },
  {
   "cell_type": "markdown",
   "metadata": {},
   "source": [
    "<font color='purple'>METHOD 3 VARIABLES:</font>"
   ]
  },
  {
   "cell_type": "code",
   "execution_count": 245,
   "metadata": {},
   "outputs": [],
   "source": [
    "# enter a list of concentrations in uL (ex. [(1/2000), (1/4000), (1/16000)])\n",
    "dilution_concentrations_list = [(1/2000), (1/4000), (1/40000), (1/160000)]  \n"
   ]
  },
  {
   "cell_type": "markdown",
   "metadata": {},
   "source": [
    "***"
   ]
  },
  {
   "cell_type": "markdown",
   "metadata": {},
   "source": [
    "### Code:\n",
    "<br> \n",
    "<font color='purple'>SETUP AND IMPORT STATEMENTS</font>"
   ]
  },
  {
   "cell_type": "code",
   "execution_count": 246,
   "metadata": {},
   "outputs": [],
   "source": [
    "import os\n",
    "import sys\n",
    "\n",
    "sys.path.append(\n",
    "    os.path.abspath(\n",
    "        os.path.join(os.path.abspath(os.path.dirname(\"__file__\")), \"../../src\")\n",
    "    )\n",
    ")\n",
    "\n",
    "import SoloSoft\n",
    "\n",
    "from Plates import (   \n",
    "    GenericPlate96Well,\n",
    "    NinetySixDeepWell,\n",
    "    ZAgilentReservoir_1row,\n",
    ") "
   ]
  },
  {
   "cell_type": "markdown",
   "metadata": {},
   "source": [
    "<font color='purple'>CALCULATIONS</font>\n",
    "<br><br>\n",
    "<font color='blue'>Calculations will be printed below this cell. Check that they match your expectations</font>"
   ]
  },
  {
   "cell_type": "code",
   "execution_count": 247,
   "metadata": {},
   "outputs": [
    {
     "name": "stdout",
     "output_type": "stream",
     "text": [
      "Method 1:\n",
      " dilution factor = 0.5\n",
      " diluent transfer volume (uL) = 30\n",
      " serial transfer volume (uL) = 30\n",
      " final volume in each well (uL) = [30, 30, 30, 60]\n",
      "[[200, 'Position1'], [200, 'Position1'], [50, 'Position7'], [50, 'Position7']]\n",
      "[[200, 'Position1'], [200, 'Position1'], [200, 'Position1'], [200, 'Position1']]\n"
     ]
    }
   ],
   "source": [
    "# Variables for deciding which tip types are necessary\n",
    "\n",
    "\n",
    "#* Method 1\n",
    "if method_number == 1:\n",
    "    dilution_factor = (lowest_concentration/highest_concentration) ** (1/num_columns)\n",
    "    serial_transfer_volume = int(dilution_factor * desired_final_volume)  \n",
    "    diluent_transfer_volume = int(desired_final_volume - serial_transfer_volume)\n",
    "    \n",
    "    # calculate final volume in each well (TODO -> put calculation into a method?)\n",
    "    final_volumes = [diluent_transfer_volume]*num_columns\n",
    "    final_volumes[0] += serial_transfer_volume\n",
    "    for i in range(num_columns-1):\n",
    "        final_volumes[i] -= serial_transfer_volume\n",
    "        final_volumes[i+1] += serial_transfer_volume\n",
    "        \n",
    "    # decide if 50 uL tips are necessary\n",
    "    diluent_50uL = False  \n",
    "    serial_50uL = False\n",
    "    if serial_transfer_volume < 20:\n",
    "        serial_50uL = True\n",
    "    if diluent_transfer_volume <20:\n",
    "        diluent_50uL = True\n",
    "    \n",
    "    # See calculation output below\n",
    "    print(\"Method 1:\" + \"\\n dilution factor = \" + str(dilution_factor) \n",
    "          + \"\\n diluent transfer volume (uL) = \" + str(diluent_transfer_volume) \n",
    "          + \"\\n serial transfer volume (uL) = \" + str(serial_transfer_volume) \n",
    "          + \"\\n final volume in each well (uL) = \" + str(final_volumes))\n",
    "          \n",
    "#* Method 2\n",
    "elif method_number == 2:\n",
    "    serial_transfer_volume = int(dilution_factor * desired_final_volume)  \n",
    "    diluent_transfer_volume = int(desired_final_volume - serial_transfer_volume)\n",
    "    \n",
    "    # calcualte final volume in each well (same as in method 1)\n",
    "    final_volumes = [diluent_transfer_volume]*num_columns\n",
    "    final_volumes[0] += serial_transfer_volume\n",
    "    for i in range(num_columns-1):\n",
    "        final_volumes[i] -= serial_transfer_volume\n",
    "        final_volumes[i+1] += serial_transfer_volume\n",
    "        \n",
    "     # decide if 50 uL tips are necessary (same as in method 1)\n",
    "    diluent_50uL = False  \n",
    "    serial_50uL = False\n",
    "    if serial_transfer_volume < 20:\n",
    "        serial_50uL = True\n",
    "    if diluent_transfer_volume <20:\n",
    "        diluent_50uL = True\n",
    "    \n",
    "    # See calculation output below\n",
    "    print(\"Method 2: \\n diluent transfer volume (uL) = \" + str(diluent_transfer_volume) \n",
    "          + \"\\n serial transfer volume (uL) = \" + str(serial_transfer_volume)\n",
    "          + \"\\n final volume in each well (uL) = \" + str(final_volumes))\n",
    "    \n",
    "#* Method 3 \n",
    "elif method_number == 3:\n",
    "    num_columns = len(dilution_concentrations_list)\n",
    "    serial_transfer_volumes = [0]*num_columns\n",
    "    diluent_transfer_volumes = [0]*num_columns\n",
    "    for i in range(len(dilution_concentrations_list)):\n",
    "        if i == 0: \n",
    "            current_dilution_factor = (dilution_concentrations_list[i]/highest_concentration) \n",
    "        else:\n",
    "            current_dilution_factor = (dilution_concentrations_list[i]/dilution_concentrations_list[i-1])\n",
    "        serial_transfer_volumes[i] = int(current_dilution_factor * desired_final_volume)\n",
    "        diluent_transfer_volumes[i]  = int(desired_final_volume - serial_transfer_volumes[i])\n",
    "        \n",
    "    # decide if 50 uL tips are necessary on plate deck (and save unique tip types necessary for each transfer)\n",
    "    diluent_50uL = False  \n",
    "    serial_50uL = False\n",
    "    \n",
    "    serial_tip_locations = [[200, \"Position1\"]]*num_columns  # 200uL tips is the default\n",
    "    diluent_tip_locations = [[200, \"Position1\"]]*num_columns\n",
    "    \n",
    "    if max(serial_transfer_volumes) <= 50 and max(diluent_transfer_volumes) <= 50:\n",
    "        # no 200uL tips needed - 50uL tips will be in default position1\n",
    "        serial_tip_locations = [[50, \"Position1\"]]*num_columns  \n",
    "        diluent_tip_locations = [[50, \"Position1\"]]*num_columns\n",
    "        diluent_50uL = True\n",
    "        serial_50uL = True\n",
    "    else:\n",
    "        for i in range(len(serial_transfer_volumes)):\n",
    "            if serial_transfer_volumes[i] < 20: \n",
    "                serial_tip_locations[i] = [50, \"Position7\"]\n",
    "                serial_50uL = True\n",
    "            if diluent_transfer_volumes[i] < 20:\n",
    "                diluent_tip_locations[i] = [50, \"Position7\"]\n",
    "                diluent_50uL = True\n",
    " \n",
    "    # calculate final volume in each well\n",
    "    final_volumes = diluent_transfer_volumes.copy()\n",
    "    for i in range(num_columns):\n",
    "        final_volumes[i] += serial_transfer_volumes[i]\n",
    "        if i < num_columns-1:\n",
    "            final_volumes[i] -= serial_transfer_volumes[i+1]\n",
    "          \n",
    "    # See calculation output below\n",
    "    print(\"Method 3: \\n desired concentrations list (uL/uL) = \" + str(dilution_concentrations_list) \n",
    "          + \"\\n diluent transfer volumes (uL) = \" + str(diluent_transfer_volumes) \n",
    "          + \"\\n serial transfer volumes (uL) = \" + str(serial_transfer_volumes)\n",
    "          + \"\\n final volume in each well (uL) = \" + str(final_volumes))\n",
    "    \n",
    "    \n",
    "print(serial_tip_locations)\n",
    "print(diluent_tip_locations)"
   ]
  },
  {
   "cell_type": "markdown",
   "metadata": {},
   "source": [
    "<font color='purple'>GENERATE DECK LAYOUT (and determine what tips are necessary)</font>"
   ]
  },
  {
   "cell_type": "code",
   "execution_count": 248,
   "metadata": {},
   "outputs": [],
   "source": [
    "plate_list = [\n",
    "        \"TipBox-Corning 200uL\",\n",
    "        \"Empty\",\n",
    "        \"Corning 3383\",\n",
    "        \"Corning 3383\",\n",
    "        \"12 Channel Reservoir\",\n",
    "        \"Empty\",\n",
    "        \"Empty\",\n",
    "        \"Empty\",\n",
    "    ]\n",
    "\n",
    "user_readable_plate_list = [\n",
    "        \"TipBox-200uL\",\n",
    "        \"Empty - HEAT NEST\",\n",
    "        \"Stock plate - Corning 3383\",\n",
    "        \"Serial dilution plate - Corning 3383\",\n",
    "        \"Diluent plate - 12 Channel Reservoir\",\n",
    "        \"Empty\",\n",
    "        \"Empty\",\n",
    "        \"Empty\",\n",
    "    ]\n",
    "\n",
    "tips_name_50uL = \"TipBox-50uL EV-50-R-S\"\n",
    "tips_location_50uL = None\n",
    "\n",
    "# decide if 50 uL tips are necessary \n",
    "if (diluent_50uL == False and serial_50uL == True) or (diluent_50uL == True and serial_50uL == False):\n",
    "    plate_list[6] = tips_name_50uL\n",
    "    user_readable_plate_list[6] = \"TipBox-50uL\"\n",
    "    tips_location_50uL = \"Position7\"\n",
    "elif diluent_50uL == True and serial_50uL == True:\n",
    "    plate_list[0] = tips_name_50uL\n",
    "    user_readable_plate_list[0] = \"TipBox-50uL\"\n",
    "    tips_location_50uL = \"Position1\"\n",
    "    \n",
    "    \n",
    "\n"
   ]
  },
  {
   "cell_type": "markdown",
   "metadata": {},
   "source": [
    "***"
   ]
  },
  {
   "cell_type": "markdown",
   "metadata": {},
   "source": [
    "<font color='blue'>----- **PLEASE SET UP THE DECK ACCORDINGLY** ------</font>"
   ]
  },
  {
   "cell_type": "code",
   "execution_count": 249,
   "metadata": {},
   "outputs": [
    {
     "name": "stdout",
     "output_type": "stream",
     "text": [
      "DECK LAYOUT:\n",
      "1 -> TipBox-200uL\n",
      "2 -> Empty - HEAT NEST\n",
      "3 -> Stock plate - Corning 3383\n",
      "4 -> Serial dilution plate - Corning 3383\n",
      "5 -> Diluent plate - 12 Channel Reservoir\n",
      "6 -> Empty\n",
      "7 -> Empty\n",
      "8 -> Empty\n"
     ]
    }
   ],
   "source": [
    "print(\"DECK LAYOUT:\")\n",
    "for i in range(len(user_readable_plate_list)):\n",
    "    print(str(i+1) + \" -> \" + str(user_readable_plate_list[i]))\n",
    "    \n",
    "# TODO: add in some notes to the user about defalt positions and column numbers for each plate (in beginning?)"
   ]
  },
  {
   "cell_type": "markdown",
   "metadata": {},
   "source": [
    "***"
   ]
  },
  {
   "cell_type": "markdown",
   "metadata": {},
   "source": [
    "<font color='purple'>CALCULATE MIXING VOLUMES (AND BLOWOFF VOLUME?)</font>"
   ]
  },
  {
   "cell_type": "code",
   "execution_count": 250,
   "metadata": {},
   "outputs": [
    {
     "name": "stdout",
     "output_type": "stream",
     "text": [
      "Stock volume:\n",
      "700\n",
      "--------\n",
      "Stock mixing volumes:\n",
      "[120, 120, 120, 120]\n",
      "Dilution mixing volumes:\n",
      "[18, 18, 18, 36]\n",
      "-----------\n",
      "Final Volumes\n",
      "[30, 30, 30, 60]\n",
      "Dilutent Tip Locations:\n",
      "[[200, 'Position1'], [200, 'Position1'], [200, 'Position1'], [200, 'Position1']]\n",
      "Serial Tip Locations:\n",
      "[[200, 'Position1'], [200, 'Position1'], [50, 'Position7'], [50, 'Position7']]\n"
     ]
    }
   ],
   "source": [
    "# TODO: refactor this to prevent repeated code\n",
    "# TODO: account for volume taken from stock solution well each time !!!!!\n",
    "\n",
    "stock_mix_volumes = [0]*num_columns   \n",
    "dilution_mix_volumes = [0]*num_columns \n",
    "\n",
    "\n",
    "# Methods 1 and 2\n",
    "if not method_number == 3:\n",
    "    if tips_location_50uL == None:\n",
    "        stock_mix_volumes = [int(.6 * 200)]*num_columns if stock_volume > 200 else [int(.6 * stock_volume)]*num_columns\n",
    "        for i in range(num_columns):\n",
    "            dilution_mix_volumes[i] = int(final_volumes[i]*.6) if (final_volumes[i]*.6) < 200 else int(200*.6)\n",
    "    \n",
    "    elif diluent_50uL == True and serial_50uL == False:\n",
    "        if not method_number == 3: \n",
    "            stock_mix_volumes = [int(.6*50)]*num_columns if stock_volume > 50 else [int(.6*stock_volume)]*num_columns\n",
    "            for i in range(num_columns):\n",
    "                dilution_mix_volumes[i] = int(final_volumes[i]*.6) if (final_volumes[i]*.6) < 200 else int(200*.6)\n",
    "    \n",
    "    elif diluent_50uL == False and serial_50uL == True:\n",
    "        if not method_number == 3: \n",
    "            stock_mix_volumes = [int(.6*200)]*num_columns if stock_volume > 200 else [int(.6*stock_volume)]*num_columns\n",
    "            for i in range(num_columns):\n",
    "                dilution_mix_volumes[i] = int(final_volumes[i]*.6) if (final_volumes[i]*.6) < 50 else int(50*.6)\n",
    "\n",
    "    elif diluent_50uL == True and serial_50uL == True:\n",
    "        if not method_number == 3:  \n",
    "            stock_mix_volumes = [int(.6*50)]*num_columns if stock_volume > 50 else [int(.6*stock_volume)]*num_columns\n",
    "            for i in range(num_columns):\n",
    "                dilution_mix_volumes[i] = int(final_volumes[i]*.6) if (final_volumes[i]*.6) < 50 else int(50*.6)\n",
    "\n",
    "# Method 3\n",
    "elif method_number == 3:\n",
    "    for i in range(num_columns):\n",
    "        # stock mix volumes\n",
    "        if stock_volume > diluent_tip_locations[i][0]:\n",
    "            stock_mix_volumes[i] = int(diluent_tip_locations[i][0] * .6)\n",
    "        else: \n",
    "            stock_mix_volumes[i] = int(stock_volume * .6)  # TODO: make this calculate the current stock volume!!!\n",
    "        #dilution mix volumes\n",
    "        if final_volumes[i] <= serial_tip_locations[i][0]:\n",
    "            dilution_mix_volumes[i] = int(final_volumes[i]*.6)\n",
    "        else:\n",
    "            dilution_mix_volumes[i] = int(.6*serial_tip_locations[i][0])   "
   ]
  },
  {
   "cell_type": "markdown",
   "metadata": {},
   "source": [
    "<font color='purple'>GENERATE SOLOSOFT .HSO FILE</font>"
   ]
  },
  {
   "cell_type": "code",
   "execution_count": 254,
   "metadata": {},
   "outputs": [],
   "source": [
    "# initialize soloSolft\n",
    "soloSoft = SoloSoft.SoloSoft(\n",
    "    filename=output_hso_filename,\n",
    "    plateList=plate_list,\n",
    ")\n",
    "\n",
    "# METHODS 1 and 2\n",
    "if method_number == 1 or method_number == 2:\n",
    "    \n",
    "    # determine the correct tip box locations\n",
    "    diluent_tip_location = \"Position1\" if diluent_50uL == False else tip_location_50uL\n",
    "    serial_tip_location = \"Position1\" if serial_50uL == False else tip_location_50uL\n",
    "    \n",
    "    # distribute diluent into all required wells \n",
    "    soloSoft.getTip(diluent_tip_location) \n",
    "    for i in range(1,num_columns+1):  # maybe add blowoff\n",
    "        soloSoft.aspirate(  \n",
    "            position=\"Position5\", \n",
    "            aspirate_volumes=ZAgilentReservoir_1row().setColumn(1, diluent_transfer_volume),\n",
    "            aspirate_shift = [0,0,4] # larger z-shift needed for 12 channel reservoir\n",
    "        )\n",
    "        soloSoft.dispense(\n",
    "            position=\"Position4\",\n",
    "            dispense_volumes=GenericPlate96Well().setColumn(i+1, diluent_transfer_volume), \n",
    "            dispense_shift=[0,0,2], \n",
    "        )\n",
    "    \n",
    "    # get the correct size tips for the serial dilution steps\n",
    "    if not serial_tip_location == diluent_tip_location:\n",
    "        soloSoft.getTips(serial_tip_location)\n",
    "        \n",
    "    # dilute into first column from stock solution\n",
    "    soloSoft.aspirate(\n",
    "        position=\"Position3\", \n",
    "        aspirate_volumes=GenericPlate96Well().setColumn(1, serial_transfer_volume),  # TODO make sure the user places stock solution in this location\n",
    "        aspirate_shift = [0,0,2], \n",
    "        mix_at_start=True,\n",
    "        mix_cycles=num_mixes,\n",
    "        mix_volume=stock_mix_volumes[0],\n",
    "        dispense_height=2,\n",
    "    )\n",
    "    soloSoft.dispense(\n",
    "        position=\"Position4\",\n",
    "        dispense_volumes=GenericPlate96Well().setColumn(1, serial_transfer_volume), \n",
    "        dispense_shift=[0,0,2], \n",
    "        mix_at_finish=True, \n",
    "        mix_cycles=num_mixes, \n",
    "        mix_volume=dilution_mix_volumes[0],\n",
    "        aspirate_height=2,\n",
    "    )\n",
    "\n",
    "    # serial dilute into the remaining columns\n",
    "    for i in range(1,num_columns):  \n",
    "        soloSoft.aspirate(\n",
    "            position=\"Position4\", \n",
    "            aspirate_volumes=GenericPlate96Well().setColumn(i, serial_transfer_volume),  # TODO make sure the user places stock solution in this location\n",
    "            aspirate_shift = [0,0,2], \n",
    "            mix_at_start=True,\n",
    "            mix_cycles=num_mixes,\n",
    "            mix_volume=dilution_mix_volumes[i-1],\n",
    "            dispense_height=2,\n",
    "        )\n",
    "        soloSoft.dispense(\n",
    "            position=\"Position4\",\n",
    "            dispense_volumes=GenericPlate96Well().setColumn(i+1, serial_transfer_volume), \n",
    "            dispense_shift=[0,0,2], \n",
    "            mix_at_finish=True, \n",
    "            mix_cycles=num_mixes, \n",
    "            mix_volume=dilution_mix_volumes[i],\n",
    "            aspirate_height=2,\n",
    "        )\n",
    "\n",
    "    soloSoft.shuckTip()\n",
    "    soloSoft.savePipeline()\n",
    "\n",
    "# METHOD 3\n",
    "elif method_number == 3: \n",
    "    \n",
    "    print(diluent_tip_locations)\n",
    "\n",
    "    # dispense predetermined differing amounts of diluent to each well\n",
    "    soloSoft.getTip(diluent_tip_locations[0][1])  # the first diluent tip locaiton \n",
    "    for i in range(1,num_columns+1): # +1 means 1,2,...,num_columns\n",
    "        soloSoft.aspirate(\n",
    "            position=\"Position5\", \n",
    "            aspirate_volumes=ZAgilentReservoir_1row().setColumn(1, diluent_transfer_volumes[i-1]),\n",
    "            aspirate_shift=[0,0,4],\n",
    "        )\n",
    "        soloSoft.dispense(\n",
    "            position=\"Position3\", \n",
    "            dispense_volumes=GenericPlate96Well().setColumn(i, diluent_transfer_volumes[i-1]), \n",
    "            dispense_shift=[0,0,2],\n",
    "        )\n",
    "        if not i > (num_columns-1):   # Change tip sizes if necessary\n",
    "            if not diluent_tip_locations[i-1][1] == diluent_tip_locations[i][1]:\n",
    "                soloSoft.getTip(diluent_tip_locations[i][1])\n",
    "        \n",
    "    # dispense the predetermined correct amount of stock solution into the first column\n",
    "    if not diluent_tip_locations[-1][1] == serial_tip_locations[0][1]:  # switch to correct tip type of necessary\n",
    "        soloSoft.getTips(serial_tip_locations[0][1])\n",
    "    soloSoft.aspirate(\n",
    "        position=\"Position3\", \n",
    "        aspirate_volumes=GenericPlate96Well().setColumn(1, serial_transfer_volumes[0]),  # TODO make sure the user places stock solution in this location\n",
    "        aspirate_shift = [0,0,2], \n",
    "        mix_at_start=True,\n",
    "        mix_cycles=num_mixes,\n",
    "        mix_volume=stock_mix_volumes[0],\n",
    "        dispense_height=2,\n",
    "    )\n",
    "    soloSoft.dispense(\n",
    "        position=\"Position4\",\n",
    "        dispense_volumes=GenericPlate96Well().setColumn(1, serial_transfer_volumes[0]), \n",
    "        dispense_shift=[0,0,2], \n",
    "        mix_at_finish=True, \n",
    "        mix_cycles=num_mixes, \n",
    "        mix_volume=dilution_mix_volume[0],\n",
    "        aspirate_height=2,\n",
    "    )\n",
    "\n",
    "    # serial dilute into remaining columns \n",
    "    for i in range(1,num_columns): \n",
    "        if not i > (num_columns-1):   # Change tip sizes if necessary\n",
    "            if not serial_tip_locations[i-1][1] == serial_tip_locations[i][1]:\n",
    "                soloSoft.getTip(diluent_tip_locations[i][1])\n",
    "        soloSoft.aspirate(\n",
    "            position=\"Position4\", \n",
    "            aspirate_volumes=GenericPlate96Well().setColumn(i, serial_transfer_volumes[i-1]),  # TODO make sure the user places stock solution in this location\n",
    "            aspirate_shift = [0,0,2], \n",
    "            mix_at_start=True,\n",
    "            mix_cycles=num_mixes,\n",
    "            mix_volume=dilution_mix_volumes[i-1],\n",
    "            dispense_height=2,\n",
    "        )\n",
    "        soloSoft.dispense(\n",
    "            position=\"Position4\",\n",
    "            dispense_volumes=GenericPlate96Well().setColumn(i+1, serial_transfer_volumes[i-1]), \n",
    "            dispense_shift=[0,0,2], \n",
    "            mix_at_finish=True, \n",
    "            mix_cycles=num_mixes, \n",
    "            mix_volume=dilution_mix_volume[i],\n",
    "            aspirate_height=2,\n",
    "        )\n",
    "\n",
    "    soloSoft.shuckTip()\n",
    "    soloSoft.savePipeline()"
   ]
  },
  {
   "cell_type": "code",
   "execution_count": null,
   "metadata": {},
   "outputs": [],
   "source": [
    "# Run protocol in softlinx and auto start/remote start the program"
   ]
  }
 ],
 "metadata": {
  "kernelspec": {
   "display_name": "Python 3",
   "language": "python",
   "name": "python3"
  },
  "language_info": {
   "codemirror_mode": {
    "name": "ipython",
    "version": 3
   },
   "file_extension": ".py",
   "mimetype": "text/x-python",
   "name": "python",
   "nbconvert_exporter": "python",
   "pygments_lexer": "ipython3",
   "version": "3.8.5"
  }
 },
 "nbformat": 4,
 "nbformat_minor": 4
}
