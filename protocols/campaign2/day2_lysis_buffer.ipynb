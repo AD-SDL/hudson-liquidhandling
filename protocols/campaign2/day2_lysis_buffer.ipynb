{
 "cells": [
  {
   "cell_type": "markdown",
   "metadata": {},
   "source": [
    "## Campaign 2, Day 2\n",
    "\n",
    "***\n",
    "\n",
    "#### Pause incubation on Hidex after 21 hours and place assay plate back on Solo deck position 4\n",
    "\n",
    "#### STEP 1    (day2_step1_AddLysisBuffer.hso)\n",
    "* Transfer 22.2uL lysis buffer from 12 channel reservoir - column 12 to Assay plate (BlackwClearBottomAssay) - all columns \n",
    "    * syringe speed = 25% \n",
    "    * no mixing \n",
    "    * no blowoff \n",
    "    * new tips every transfer\n",
    "    \n",
    "#### Resume the paused Hidex run (incubate for at least another 6 hours)\n",
    "\n",
    "***\n",
    "   \n",
    "#### DECK LAYOUT:\n",
    "1. TipBox.200uL.Corning-4864.orangebox\n",
    "2. Empty (HEAT NEST)\n",
    "3. Reservoir.12col.Agilent-201256-100.BATSgroup\n",
    "        Columns 1,2 -> cells\n",
    "        Column 6 -> Muconate stock (50nm)\n",
    "        Column 7 -> Buffer for Muconate Dilutions\n",
    "        (eventually) Column 12 -> lysis byffer (add just before runnig day 2 protocol)\n",
    "4. Plate.96.Corning-3635.ClearUVAssay    (same measurements as Corning Black UV)\n",
    "5. Plate.96.PlateOne-1833-9600.ConicalBottomStorage\n",
    "6. Plate.96.PlateOne-1833-9600.ConicalBottomStorage\n",
    "7. TipBox.50uL.Axygen-EV-50-R-S.tealbox\n",
    "8. Empty\n",
    "\n",
    "*** \n",
    "\n",
    "#### REQUIRED VOLUMES (day 2 only)\n",
    "NOTE: Min required volumes were only tested with water, add extra volume for more viscous liquids.\n",
    "\n",
    "| Plate Type | Deck Position  |  Column  | z-shift |  Actual Volume Used |  Min Volume Required | \n",
    "| :-: | :-:  |  :-:  | :-: | :-: | :-: |\n",
    "| Reservoir.12col.Agilent-201256-100.BATSgroup |  3  |  12  | 0.5 |   2131.2 uL (266.4 uL per tip)  | 2300 uL minimum, 2500+ uL recommended |\n",
    "\n"
   ]
  },
  {
   "cell_type": "code",
   "execution_count": null,
   "metadata": {},
   "outputs": [],
   "source": [
    "from liquidhandling import SoloSoft, SoftLinx\n",
    "from liquidhandling import Reservoir_12col_Agilent_201256_100_BATSgroup\n",
    "from liquidhandling import Plate_96_PlateOne_1833_9600_ConicalBottomStorage\n",
    "from liquidhandling import Plate_96_Corning_3635_ClearUVAssay"
   ]
  },
  {
   "cell_type": "code",
   "execution_count": 1,
   "metadata": {},
   "outputs": [
    {
     "ename": "FileNotFoundError",
     "evalue": "[Errno 2] No such file or directory: '/lambda_stor/data/hudson/instructions/day2_step1_AddLysisBuffer.slvp'",
     "output_type": "error",
     "traceback": [
      "\u001b[0;31m---------------------------------------------------------------------------\u001b[0m",
      "\u001b[0;31mFileNotFoundError\u001b[0m                         Traceback (most recent call last)",
      "\u001b[0;32m<ipython-input-1-b1d41b53758f>\u001b[0m in \u001b[0;36m<module>\u001b[0;34m\u001b[0m\n\u001b[1;32m     54\u001b[0m \u001b[0msoftLinx\u001b[0m \u001b[0;34m=\u001b[0m \u001b[0mSoftLinx\u001b[0m\u001b[0;34m(\u001b[0m\u001b[0;34m\"day2_step1_AddLysisBuffer\"\u001b[0m\u001b[0;34m,\u001b[0m \u001b[0mlambda6_path\u001b[0m \u001b[0;34m+\u001b[0m \u001b[0;34m\"day2_step1_AddLysisBuffer.slvp\"\u001b[0m\u001b[0;34m)\u001b[0m\u001b[0;34m\u001b[0m\u001b[0;34m\u001b[0m\u001b[0m\n\u001b[1;32m     55\u001b[0m \u001b[0msoftLinx\u001b[0m\u001b[0;34m.\u001b[0m\u001b[0msoloSoftRun\u001b[0m\u001b[0;34m(\u001b[0m\u001b[0;34m\"C:\\\\labautomation\\\\instructions\\\\day2_step1_AddLysisBuffer.hso\"\u001b[0m\u001b[0;34m)\u001b[0m\u001b[0;34m\u001b[0m\u001b[0;34m\u001b[0m\u001b[0m\n\u001b[0;32m---> 56\u001b[0;31m \u001b[0msoftLinx\u001b[0m\u001b[0;34m.\u001b[0m\u001b[0msaveProtocol\u001b[0m\u001b[0;34m(\u001b[0m\u001b[0;34m)\u001b[0m\u001b[0;34m\u001b[0m\u001b[0;34m\u001b[0m\u001b[0m\n\u001b[0m",
      "\u001b[0;32m~/Desktop/liquidhandling_Git_Clone/liquidhandling/SoftLinx.py\u001b[0m in \u001b[0;36msaveProtocol\u001b[0;34m(self, filename, generate_ahk)\u001b[0m\n\u001b[1;32m    725\u001b[0m             \u001b[0mtree\u001b[0m\u001b[0;34m.\u001b[0m\u001b[0mgetroot\u001b[0m\u001b[0;34m(\u001b[0m\u001b[0;34m)\u001b[0m\u001b[0;34m,\u001b[0m \u001b[0mmethod\u001b[0m\u001b[0;34m=\u001b[0m\u001b[0;34m\"xml\"\u001b[0m\u001b[0;34m,\u001b[0m \u001b[0mencoding\u001b[0m\u001b[0;34m=\u001b[0m\u001b[0;34m\"unicode\"\u001b[0m\u001b[0;34m\u001b[0m\u001b[0;34m\u001b[0m\u001b[0m\n\u001b[1;32m    726\u001b[0m         ).replace(\"&amp;\", \"&\")\n\u001b[0;32m--> 727\u001b[0;31m         \u001b[0;32mwith\u001b[0m \u001b[0mopen\u001b[0m\u001b[0;34m(\u001b[0m\u001b[0mfilename\u001b[0m\u001b[0;34m,\u001b[0m \u001b[0;34m\"w\"\u001b[0m\u001b[0;34m)\u001b[0m \u001b[0;32mas\u001b[0m \u001b[0mfile\u001b[0m\u001b[0;34m:\u001b[0m\u001b[0;34m\u001b[0m\u001b[0;34m\u001b[0m\u001b[0m\n\u001b[0m\u001b[1;32m    728\u001b[0m             \u001b[0mfile\u001b[0m\u001b[0;34m.\u001b[0m\u001b[0mwrite\u001b[0m\u001b[0;34m(\u001b[0m\u001b[0mxmlstring\u001b[0m\u001b[0;34m)\u001b[0m\u001b[0;34m\u001b[0m\u001b[0;34m\u001b[0m\u001b[0m\n\u001b[1;32m    729\u001b[0m         \u001b[0;31m# *Add .slvp filename to manifest list\u001b[0m\u001b[0;34m\u001b[0m\u001b[0;34m\u001b[0m\u001b[0;34m\u001b[0m\u001b[0m\n",
      "\u001b[0;31mFileNotFoundError\u001b[0m: [Errno 2] No such file or directory: '/lambda_stor/data/hudson/instructions/day2_step1_AddLysisBuffer.slvp'"
     ]
    }
   ],
   "source": [
    "#* Program Variables\n",
    "lysis_12_channel_column = 12\n",
    "lysis_transfer_volume = 22.2\n",
    "lysis_syringe_speed = 25\n",
    "lysis_blowoff = 0\n",
    "reservoir_z_shift = .5  # tested with lysis buffer, working\n",
    "dispense_z_shift = 2\n",
    "lambda6_path = \"/lambda_stor/data/hudson/instructions/\"\n",
    "\n",
    "#* Initialize solosoft and deck layout \n",
    "soloSoft = SoloSoft(\n",
    "    filename=lambda6_path + \"day2_step1_AddLysisBuffer.hso\", \n",
    "    plateList=[\n",
    "        \"TipBox.200uL.Corning-4864.orangebox\", \n",
    "        \"Empty\", \n",
    "        \"Reservoir.12col.Agilent-201256-100.BATSgroup\", \n",
    "        \"Plate.96.Corning-3635.ClearUVAssay\", \n",
    "        \"Plate.96.PlateOne-1833-9600.ConicalBottomStorage\", \n",
    "        \"Plate.96.PlateOne-1833-9600.ConicalBottomStorage\", \n",
    "        \"TipBox.50uL.Axygen-EV-50-R-S.tealbox\", \n",
    "        \"Empty\"\n",
    "    ]\n",
    ")\n",
    "\n",
    "#* STEP 1: Add Lysis Buffer from 12 channel reservoir to cell plate \n",
    "for i in range (1,13):\n",
    "    soloSoft.getTip()  # 200uL ok to aspirate 22.2 uL, NEED NEW TIP FOR EACH TRANSFER\n",
    "    soloSoft.aspirate(\n",
    "        position=\"Position3\", \n",
    "        aspirate_volumes=Reservoir_12col_Agilent_201256_100_BATSgroup().setColumn(lysis_12_channel_column, lysis_transfer_volume), \n",
    "        aspirate_shift=[0,0,reservoir_z_shift], \n",
    "        pre_aspirate=lysis_blowoff,\n",
    "        syringe_speed=lysis_syringe_speed,\n",
    "        # mix lysis buffer before transfer? -> might cause bubbles...\n",
    "    )\n",
    "    soloSoft.dispense(\n",
    "        position=\"Position4\", \n",
    "        dispense_volumes=Plate_96_Corning_3635_ClearUVAssay().setColumn(i, lysis_transfer_volume), \n",
    "        dispense_shift=[0,0,dispense_z_shift], \n",
    "        blowoff=lysis_blowoff,\n",
    "        syringe_speed=lysis_syringe_speed,\n",
    "    )\n",
    "\n",
    "soloSoft.shuckTip()\n",
    "soloSoft.savePipeline() \n",
    "\n",
    "# add .hso file to SoftLinx .slvp file \n",
    "# all necessary .hso files must be located in the labautomation/instructions folder for the .slvp file to run correctly\n",
    "softLinx = SoftLinx(\"day2_step1_AddLysisBuffer\", lambda6_path + \"day2_step1_AddLysisBuffer.slvp\")\n",
    "softLinx.soloSoftRun(\"C:\\\\labautomation\\\\instructions\\\\day2_step1_AddLysisBuffer.hso\")  \n",
    "softLinx.saveProtocol() "
   ]
  },
  {
   "cell_type": "code",
   "execution_count": null,
   "metadata": {},
   "outputs": [],
   "source": []
  }
 ],
 "metadata": {
  "kernelspec": {
   "display_name": "Python 3",
   "language": "python",
   "name": "python3"
  },
  "language_info": {
   "codemirror_mode": {
    "name": "ipython",
    "version": 3
   },
   "file_extension": ".py",
   "mimetype": "text/x-python",
   "name": "python",
   "nbconvert_exporter": "python",
   "pygments_lexer": "ipython3",
   "version": "3.8.5"
  }
 },
 "nbformat": 4,
 "nbformat_minor": 4
}
